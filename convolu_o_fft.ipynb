{
  "nbformat": 4,
  "nbformat_minor": 0,
  "metadata": {
    "colab": {
      "provenance": [],
      "include_colab_link": true
    },
    "kernelspec": {
      "name": "python3",
      "display_name": "Python 3"
    },
    "language_info": {
      "name": "python"
    }
  },
  "cells": [
    {
      "cell_type": "markdown",
      "metadata": {
        "id": "view-in-github",
        "colab_type": "text"
      },
      "source": [
        "<a href=\"https://colab.research.google.com/github/LucasCarmoPaschoal/Convolu-o-FFT/blob/main/convolu_o_fft.ipynb\" target=\"_parent\"><img src=\"https://colab.research.google.com/assets/colab-badge.svg\" alt=\"Open In Colab\"/></a>"
      ]
    },
    {
      "cell_type": "code",
      "execution_count": null,
      "metadata": {
        "colab": {
          "base_uri": "https://localhost:8080/"
        },
        "id": "-IADkqUIQm16",
        "outputId": "c31d2eb7-07cd-4e8d-8942-011056f6ae57"
      },
      "outputs": [
        {
          "output_type": "stream",
          "name": "stdout",
          "text": [
            "Overwriting fft_example.c\n"
          ]
        }
      ],
      "source": [
        "%%writefile fft_example.c\n",
        "\n",
        "#include <stdio.h>\n",
        "#include <stdlib.h>\n",
        "#include <math.h>\n",
        "\n",
        "#define PI 3.14159265358979323846\n",
        "// estruta de um numero complexo\n",
        "typedef struct {\n",
        "    double real;\n",
        "    double imag;\n",
        "} Complex;\n",
        "// funçao multiplicação complex\n",
        "Complex complex_mult(Complex a, Complex b) {\n",
        "    Complex res;\n",
        "    res.real = a.real * b.real - a.imag * b.imag;\n",
        "    res.imag = a.real * b.imag + a.imag * b.real;\n",
        "    return res;\n",
        "}\n",
        "// funçao soma complex\n",
        "Complex complex_add(Complex a, Complex b) {\n",
        "    Complex res;\n",
        "    res.real = a.real + b.real;\n",
        "    res.imag = a.imag + b.imag;\n",
        "    return res;\n",
        "}\n",
        "// funçao subitração complex\n",
        "Complex complex_sub(Complex a, Complex b) {\n",
        "    Complex res;\n",
        "    res.real = a.real - b.real;\n",
        "    res.imag = a.imag - b.imag;\n",
        "    return res;\n",
        "}\n",
        "// função que encontra primeira potencia de 2 maior que n\n",
        "int next_power_of_two(int n) {\n",
        "    int power = 1;\n",
        "    while (power < n) power *= 2;\n",
        "    return power;\n",
        "}\n",
        "// função recursiva fft por decimação no tempo recebendo um sinal entrada  e o tamanho\n",
        "void FFT(Complex *x, int N) {\n",
        "    if (N <= 1) return;\n",
        "\n",
        "    Complex *even = malloc(N/2 * sizeof(Complex));\n",
        "    Complex *odd  = malloc(N/2 * sizeof(Complex));\n",
        "\n",
        "    for (int i = 0; i < N/2; i++) {\n",
        "        even[i] = x[2*i];\n",
        "        odd[i]  = x[2*i + 1];\n",
        "    }\n",
        "\n",
        "    FFT(even, N/2);\n",
        "    FFT(odd, N/2);\n",
        "\n",
        "    for (int k = 0; k < N/2; k++) {\n",
        "        double angle = -2 * PI * k / N;\n",
        "        Complex twiddle = {cos(angle), sin(angle)};\n",
        "        Complex t = complex_mult(twiddle, odd[k]);\n",
        "        x[k]       = complex_add(even[k], t);\n",
        "        x[k+N/2]   = complex_sub(even[k], t);\n",
        "    }\n",
        "\n",
        "    free(even);\n",
        "    free(odd);\n",
        "}\n",
        "\n",
        "void IFFT(Complex *x, int N) {\n",
        "    if (N <= 1) return;\n",
        "\n",
        "    Complex *even = malloc(N/2 * sizeof(Complex));\n",
        "    Complex *odd  = malloc(N/2 * sizeof(Complex));\n",
        "\n",
        "    for (int i = 0; i < N/2; i++) {\n",
        "        even[i] = x[2*i];\n",
        "        odd[i]  = x[2*i + 1];\n",
        "    }\n",
        "\n",
        "    IFFT(even, N/2);\n",
        "    IFFT(odd, N/2);\n",
        "\n",
        "    for (int k = 0; k < N/2; k++) {\n",
        "        double angle = 2 * PI * k / N;\n",
        "        Complex twiddle = {cos(angle), sin(angle)};\n",
        "        Complex t = complex_mult(twiddle, odd[k]);\n",
        "        x[k]       = complex_add(even[k], t);\n",
        "        x[k+N/2]   = complex_sub(even[k], t);\n",
        "    }\n",
        "\n",
        "    free(even);\n",
        "    free(odd);\n",
        "}\n",
        "\n",
        "void normalize_ifft(Complex* x, int N) {\n",
        "    for (int i = 0; i < N; i++) {\n",
        "        x[i].real /= N;\n",
        "        x[i].imag /= N;\n",
        "    }\n",
        "}\n",
        "\n",
        "// Convolução via FFT\n",
        "void convolution(Complex* x, int Nx, Complex* h, int Nh, Complex* y_out) {\n",
        "    int N = Nx + Nh - 1;\n",
        "    int Nfft = next_power_of_two(N);\n",
        "\n",
        "    Complex *X = calloc(Nfft, sizeof(Complex));\n",
        "    Complex *H = calloc(Nfft, sizeof(Complex));\n",
        "    Complex *Y = calloc(Nfft, sizeof(Complex));\n",
        "\n",
        "    // Copia com zero-padding\n",
        "    for (int i = 0; i < Nx; i++) X[i] = x[i];\n",
        "    for (int i = 0; i < Nh; i++) H[i] = h[i];\n",
        "\n",
        "    FFT(X, Nfft);\n",
        "    FFT(H, Nfft);\n",
        "\n",
        "    for (int i = 0; i < Nfft; i++) {\n",
        "        Y[i] = complex_mult(X[i], H[i]);\n",
        "    }\n",
        "\n",
        "    IFFT(Y, Nfft);\n",
        "    normalize_ifft(Y, Nfft);\n",
        "    for (int i = 0; i < N; i++) {\n",
        "        y_out[i] = Y[i];\n",
        "    }\n",
        "\n",
        "    free(X); free(H); free(Y);\n",
        "}\n",
        "\n",
        "int main() {\n",
        "    Complex x[4] = {{1,0}, {2,0}, {3,0}, {4,0}};\n",
        "    Complex h[3] = {{1,0}, {1,0}, {1,0}};\n",
        "    int Nx = 4, Nh = 3;\n",
        "    int Nout = Nx + Nh - 1;\n",
        "\n",
        "    Complex* y = calloc(Nout, sizeof(Complex));\n",
        "\n",
        "    convolution(x, Nx, h, Nh, y);\n",
        "\n",
        "    printf(\"Resultado da convolução linear:\\n\");\n",
        "    for (int i = 0; i < Nout; i++) {\n",
        "        printf(\"y[%d] = %.3f + %.3fi\\n\", i, y[i].real, y[i].imag);\n",
        "    }\n",
        "\n",
        "    free(y);\n",
        "    return 0;\n",
        "}\n"
      ]
    },
    {
      "cell_type": "code",
      "source": [
        "!gcc fft_example.c -o fft_example -lm\n",
        "!./fft_example"
      ],
      "metadata": {
        "colab": {
          "base_uri": "https://localhost:8080/"
        },
        "id": "hSz4az2BRGwq",
        "outputId": "95006b54-560d-443f-decc-5c3e6aeaf7f1"
      },
      "execution_count": null,
      "outputs": [
        {
          "output_type": "stream",
          "name": "stdout",
          "text": [
            "Resultado da convolução linear:\n",
            "y[0] = 1.000 + -0.000i\n",
            "y[1] = 3.000 + -0.000i\n",
            "y[2] = 6.000 + -0.000i\n",
            "y[3] = 9.000 + -0.000i\n",
            "y[4] = 7.000 + 0.000i\n",
            "y[5] = 4.000 + 0.000i\n"
          ]
        }
      ]
    }
  ]
}